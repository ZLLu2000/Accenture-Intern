{
 "cells": [
  {
   "cell_type": "code",
   "execution_count": null,
   "id": "56121efc",
   "metadata": {},
   "outputs": [],
   "source": [
    "import pickle\n",
    "import numpy as np\n",
    "import pandas as pd\n",
    "from sklearn.preprocessing import OrdinalEncoder, MinMaxScaler\n",
    "import matplotlib.pyplot as plt"
   ]
  },
  {
   "cell_type": "code",
   "execution_count": null,
   "id": "3e7e6e02",
   "metadata": {},
   "outputs": [],
   "source": [
    "# 任务1： 将效果最好的模型从pickle中进行读取\n",
    "with open('model.pkl', 'rb') as f:\n",
    "    model_load = pickle.load(f)\n",
    "    f.close()"
   ]
  },
  {
   "cell_type": "code",
   "execution_count": null,
   "id": "f9031c34",
   "metadata": {},
   "outputs": [],
   "source": [
    "# 任务2： 对task数据集进行一次之前对data_row数据集继续宁的统计分析与处理\n",
    "data = pd.read_csv(r\"./task.csv\")\n",
    "\n",
    "data[\"main_focus\"] = data[\"main_focus\"].astype(int)\n",
    "enc = OrdinalEncoder(handle_unknown=\"use_encoded_value\", unknown_value=np.nan)\n",
    "data[\"region\"] = enc.fit_transform(data[[\"region\"]])\n",
    "num_col = ['undesirable_event', 'feedback', 'positive_feedback',\n",
    "           'competitive', 'spread_rate', 'transfer_rate', 'matain_rate']\n",
    "num_data = MinMaxScaler().fit_transform(data[num_col])\n",
    "data[num_col] = num_data"
   ]
  },
  {
   "cell_type": "code",
   "execution_count": null,
   "id": "4a210296",
   "metadata": {},
   "outputs": [],
   "source": [
    "# 任务3：利用训练好的模型对数据进行预测， 保存模型结果\n",
    "sale_predict = model_load.predict(data)\n",
    "save_path = r\"predict_result.pkl\"\n",
    "with open(save_path, \"wb\") as ot_path:\n",
    "    pickle.dump(sale_predict, ot_path)"
   ]
  },
  {
   "cell_type": "code",
   "execution_count": null,
   "id": "fdf2db2f",
   "metadata": {},
   "outputs": [],
   "source": [
    "# 任务4：通过预测，将预测结果进行可视化，选用line chart ,将预测结果利用line chart呈现\n",
    "x = list(range(len(sale_predict)))\n",
    "plt.plot(x, sale_predict, color=\"pink\", label=\"sale_predict\", alpha=1)\n",
    "plt.legend()\n",
    "plt.xlabel('sample')\n",
    "plt.ylabel('sale_predict')\n",
    "plt.show()"
   ]
  },
  {
   "cell_type": "code",
   "execution_count": null,
   "id": "04a03213",
   "metadata": {},
   "outputs": [],
   "source": []
  }
 ],
 "metadata": {
  "kernelspec": {
   "display_name": "Python 3 (ipykernel)",
   "language": "python",
   "name": "python3"
  },
  "language_info": {
   "codemirror_mode": {
    "name": "ipython",
    "version": 3
   },
   "file_extension": ".py",
   "mimetype": "text/x-python",
   "name": "python",
   "nbconvert_exporter": "python",
   "pygments_lexer": "ipython3",
   "version": "3.7.10"
  }
 },
 "nbformat": 4,
 "nbformat_minor": 5
}
