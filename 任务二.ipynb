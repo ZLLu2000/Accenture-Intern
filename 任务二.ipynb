{
 "cells": [
  {
   "cell_type": "code",
   "execution_count": 2,
   "metadata": {},
   "outputs": [
    {
     "name": "stdout",
     "output_type": "stream",
     "text": [
      "7 14 21 28 42 49 56 63 77 84 91 98 "
     ]
    }
   ],
   "source": [
    "# 1.求 1-100 之间能被 7 整除，但不能同时被 5 整除的所有整数\n",
    "for i in range (1, 101):\n",
    "   if i%7==0 and i%5!=0:\n",
    "     print(i, end=' ')\n"
   ]
  },
  {
   "cell_type": "code",
   "execution_count": 7,
   "metadata": {},
   "outputs": [
    {
     "name": "stdout",
     "output_type": "stream",
     "text": [
      "153\n",
      "370\n",
      "371\n",
      "407\n"
     ]
    }
   ],
   "source": [
    "# 2.输出1000以内所有的“水仙花数”，所谓“水仙花数”是指一个三位数，其各位数字立方和等于该数本身。例如：153是一个“水仙花数”，因为153=1的三次方+5的三次方+3的三次方\n",
    "for n in range (100,1000):\n",
    "   a=n//100\n",
    "   b=n//10%10\n",
    "   c=n%10\n",
    "   m=a*a*a+b*b*b+c*c*c\n",
    "   if n==m:\n",
    "      print (n)\n"
   ]
  },
  {
   "cell_type": "code",
   "execution_count": 3,
   "metadata": {},
   "outputs": [
    {
     "name": "stdout",
     "output_type": "stream",
     "text": [
      "[101, 103, 107, 109, 113, 127, 131, 137, 139, 149, 151, 157, 163, 167, 173, 179, 181, 191, 193, 197, 199]\n",
      "总数为:  21\n"
     ]
    }
   ],
   "source": [
    "# 3.判断 101-200 之间有多少个素数，并输出所有素数 \n",
    "import math\n",
    "p = range (101, 201)\n",
    "aList = list (p)\n",
    "for i in range (101, 201):\n",
    "   for j in range (2, int(math.sqrt(i)+1)):\n",
    "       if i% j ==0:\n",
    "          aList.remove(i)\n",
    "          break\n",
    "print(aList)\n",
    "print('总数为: ',len(aList))\n"
   ]
  },
  {
   "cell_type": "code",
   "execution_count": 32,
   "metadata": {},
   "outputs": [
    {
     "name": "stdout",
     "output_type": "stream",
     "text": [
      "6\n"
     ]
    }
   ],
   "source": [
    "# 4.设m=1*2….*n,求m为不大于20000时最大的n\n",
    "m=1\n",
    "n=1\n",
    "while m<=20000:\n",
    "  n+=1\n",
    "  m=m*n\n",
    "print(n-1)\n"
   ]
  },
  {
   "cell_type": "code",
   "execution_count": 31,
   "metadata": {},
   "outputs": [
    {
     "name": "stdout",
     "output_type": "stream",
     "text": [
      "right!\n"
     ]
    }
   ],
   "source": [
    "# 5.利用if语句写出猜大小的游戏。预设一个0-9的随机整数，让用户输入所猜的数。如果大于预设的数，提示“bigger”；如果小于预设的数，显示“smaller”。如此循环，直至猜中该数，显示“right!”，并统计第几次猜中\n",
    "guess = int(input('请输入0-9的任意数字:  \\n'))\n",
    "presetnum = 7\n",
    "while True:\n",
    "   if guess == presetnum:\n",
    "      print('right!')\n",
    "      break\n",
    "   elif guess < presetnum:\n",
    "      print('smaller…')\n",
    "      break\n",
    "   else:\n",
    "      print('bigger…')\n",
    "      break\n"
   ]
  },
  {
   "cell_type": "code",
   "execution_count": 28,
   "metadata": {},
   "outputs": [
    {
     "name": "stdout",
     "output_type": "stream",
     "text": [
      "不是回文字符\n"
     ]
    }
   ],
   "source": [
    "# 6.读入一串字符，判断是否回文串。“回文串”是一个正读和反读都一样的字符串，比如“level”或者“noon”等等就是回文串。输入一行字符串，长度不超过255。输出如果是回文串，输出“yes”，否则输出“No”。\n",
    "s = input('请输入一串字符： ')\n",
    "a = reversed(list(s))\n",
    "if list(a)==list(s):\n",
    "    print('回文字符')\n",
    "else:\n",
    "    print('不是回文字符')\n"
   ]
  },
  {
   "cell_type": "code",
   "execution_count": 33,
   "metadata": {},
   "outputs": [
    {
     "name": "stdout",
     "output_type": "stream",
     "text": [
      "50.0\n",
      "25.0\n",
      "12.5\n",
      "6.25\n",
      "3.125\n",
      "1.5625\n",
      "0.78125\n",
      "0.390625\n",
      "0.1953125\n",
      "0.09765625\n",
      "总长:  299.8046875\n"
     ]
    }
   ],
   "source": [
    "# 7.一球从100米高度自由落下，每次落地后反跳回原来高度的一半；再落下，求它在第10次落地时，共经过多少米？第10次反弹多高？\n",
    "high=200\n",
    "total=100\n",
    "for i in range(10):\n",
    "   high/=2\n",
    "   total+=high\n",
    "   print(high/2)\n",
    "print('总长: ', total)\n"
   ]
  },
  {
   "cell_type": "code",
   "execution_count": 38,
   "metadata": {},
   "outputs": [
    {
     "name": "stdout",
     "output_type": "stream",
     "text": [
      "1. *\n",
      "2. **\n",
      "3. ***\n",
      "4. ****\n",
      "5. *****\n",
      "6. ****\n",
      "7. ***\n",
      "8. **\n",
      "9. *\n"
     ]
    }
   ],
   "source": [
    "# 8.使用while，完成以下图形的输出\n",
    "i=1\n",
    "while i<=5:\n",
    "    print(str(i)+\".\",\"*\"*i)\n",
    "    i += 1\n",
    "while i <= 9:\n",
    "    print(str(i)+\".\",\"*\"*(10-i))\n",
    "    i += 1\n",
    "\n"
   ]
  },
  {
   "cell_type": "code",
   "execution_count": 11,
   "metadata": {},
   "outputs": [
    {
     "name": "stdout",
     "output_type": "stream",
     "text": [
      "2000-3-10是一年中的第70天\n"
     ]
    }
   ],
   "source": [
    "# 9.输入某年某月某日，判断这一天是这一年的第几天？\n",
    "date = input('输入某年某月某日，格式为：****-**-**,小于10请写0*：')\n",
    "year = int(date[0:4])\n",
    "month = int(date[5:7])\n",
    "day = int(date[8:])\n",
    "if year % 4 == 0 and year % 100 != 0 or year % 400 == 0:\n",
    "    feb = 29\n",
    "else:\n",
    "    feb = 28\n",
    "date1 = [31, feb, 31, 30, 31, 30, 31, 31, 30, 31, 30, 31]\n",
    "res = 0\n",
    "i = 0\n",
    "for i in date1[0:month - 1]:\n",
    "    res = res + i\n",
    "res += day\n",
    "print('{}-{}-{}是一年中的第{}天'.format(year, month, day, res))\n"
   ]
  },
  {
   "cell_type": "code",
   "execution_count": 17,
   "metadata": {},
   "outputs": [
    {
     "name": "stdout",
     "output_type": "stream",
     "text": [
      "['Lu', 'Ke', 'Xin', 'Cheng', 'Na', 'Yu']\n"
     ]
    }
   ],
   "source": [
    "# 10.定义一个列表名为nameList，里面包含6个元素\n",
    "name_List=[]\n",
    "name_List=['Lu', 'Ke', 'Xin', 'Cheng', 'Na', 'Yu']\n",
    "print(name_List[0:])\n"
   ]
  },
  {
   "cell_type": "code",
   "execution_count": 19,
   "metadata": {},
   "outputs": [
    {
     "name": "stdout",
     "output_type": "stream",
     "text": [
      "“飘”:2次\n",
      "“乎”:1次\n",
      "“如”:1次\n",
      "“遗”:1次\n",
      "“世”:1次\n",
      "“独”:1次\n",
      "“立”:1次\n",
      "“，”:1次\n",
      "“羽”:1次\n",
      "“化”:1次\n",
      "“而”:1次\n",
      "“登”:1次\n",
      "“仙”:1次\n",
      "“。”:1次\n"
     ]
    }
   ],
   "source": [
    "# 11.使用计数器方式（统计以下‘飘飘乎如遗世独立，羽化而登仙。’这一句话中的每个字符出现的个数），以及出现最多的2个数\n",
    "str = input(\"输入: \")\n",
    "resoult = {}\n",
    "for i in str:\n",
    "   resoult[i] = str.count(i)\n",
    "for key in resoult:\n",
    "   print(f'“{key}”:{resoult[key]}次')\n"
   ]
  },
  {
   "cell_type": "code",
   "execution_count": null,
   "metadata": {},
   "outputs": [],
   "source": [
    "# 1.有四个数字：1、2、3、4，能组成多少个互不相同且无重复数字的三位数？各是多少？\n",
    "counter=0\n",
    "from itertools import permutations\n",
    "for i in permutations([1,2,3,4],3):\n",
    "    print(\"{}{}{}\".format(i[0],i[1],i[2]),end=\" \")\n",
    "    counter +=1\n",
    "print(\"\")\n",
    "print(\"共{}种组合\".format(counter))"
   ]
  }
 ],
 "metadata": {
  "kernelspec": {
   "display_name": "Python 3.9.7 ('base')",
   "language": "python",
   "name": "python3"
  },
  "language_info": {
   "codemirror_mode": {
    "name": "ipython",
    "version": 3
   },
   "file_extension": ".py",
   "mimetype": "text/x-python",
   "name": "python",
   "nbconvert_exporter": "python",
   "pygments_lexer": "ipython3",
   "version": "3.9.7"
  },
  "orig_nbformat": 4,
  "vscode": {
   "interpreter": {
    "hash": "f3a52463084db90f96d29dcfcfd9bf276dba3c521d76c4c38c835392b64a093b"
   }
  }
 },
 "nbformat": 4,
 "nbformat_minor": 2
}
