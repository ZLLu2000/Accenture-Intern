{
 "cells": [
  {
   "cell_type": "code",
   "execution_count": null,
   "id": "6c5be43d",
   "metadata": {},
   "outputs": [],
   "source": [
    "import numpy as np\n",
    "import pandas as pd\n",
    "import matplotlib.pyplot as plt\n",
    "\n",
    "from sklearn.tree import DecisionTreeRegressor\n",
    "from sklearn.linear_model import LinearRegression\n",
    "from sklearn.linear_model import Ridge\n",
    "from sklearn.linear_model import Lasso\n",
    "from sklearn.svm import SVR\n",
    "from sklearn.neighbors import KNeighborsRegressor\n",
    "from sklearn.ensemble import RandomForestRegressor\n",
    "from sklearn.ensemble import AdaBoostRegressor\n",
    "from sklearn.ensemble import GradientBoostingRegressor\n",
    "from sklearn.ensemble import BaggingRegressor\n",
    "from sklearn.ensemble import ExtraTreesRegressor\n",
    "from sklearn.preprocessing import OneHotEncoder\n",
    "from sklearn.preprocessing import OrdinalEncoder"
   ]
  },
  {
   "cell_type": "code",
   "execution_count": null,
   "id": "4e2587d7",
   "metadata": {},
   "outputs": [],
   "source": [
    "data = pd.read_csv(r\"./data_raw.csv\")\n",
    "data[\"main_focus\"] = data[\"main_focus\"].astype(int)\n",
    "enc = OrdinalEncoder(handle_unknown=\"use_encoded_value\", unknown_value=np.nan)\n",
    "enc = enc.fit(data[[\"region\"]])\n",
    "data[\"region\"] = enc.fit_transform(data[[\"region\"]])"
   ]
  },
  {
   "cell_type": "code",
   "execution_count": null,
   "id": "5d7a9690",
   "metadata": {},
   "outputs": [],
   "source": [
    "# 任务 1：\n",
    "# 实例化本项目中所需要的所有机器学习模型，包括：tree 回归，线性回归，岭回归，\n",
    "# Lasso 回归，SVM 回归，KNN 回归，随机森林回归，Adaboost 回归，GBRT 回归，\n",
    "# Bagging 回归，Extralsess 极限随机数回归。\n",
    "tree_model = DecisionTreeRegressor()\n",
    "linear_model = LinearRegression()\n",
    "ridge_model = Ridge()\n",
    "lasso_model = Lasso()\n",
    "svr_model = SVR()\n",
    "knn_model = KNeighborsRegressor()\n",
    "rf_model = RandomForestRegressor()\n",
    "adbst_model = AdaBoostRegressor()\n",
    "gbr_model = GradientBoostingRegressor()\n",
    "bag_model = BaggingRegressor()\n",
    "ext_model = ExtraTreesRegressor()"
   ]
  },
  {
   "cell_type": "code",
   "execution_count": null,
   "id": "9c2b13be",
   "metadata": {},
   "outputs": [],
   "source": [
    "# 任务 2：\n",
    "# 定义噪声参数 3* std\n",
    "std = data[\"sales_record\"].std()\n",
    "noise_value = 3*std\n",
    "data = data[data[\"sales_record\"] < noise_value]"
   ]
  },
  {
   "cell_type": "code",
   "execution_count": null,
   "id": "b9e33db2",
   "metadata": {},
   "outputs": [],
   "source": [
    "# 任务 3：\n",
    "# 定义基础的统计量，包括：最大值，最小值，均值，最大值减最小值等\n",
    "max_value = data[\"sales_record\"].max()\n",
    "min_value = data[\"sales_record\"].min()\n",
    "mean_value = data[\"sales_record\"].mean()\n",
    "max_sub_min = max_value - mean_value"
   ]
  },
  {
   "cell_type": "code",
   "execution_count": null,
   "id": "f3cb46f2",
   "metadata": {},
   "outputs": [],
   "source": [
    "# 任务 4：\n",
    "# 定义 MSE，MAE，RMSE，R2\n",
    "from sklearn.metrics import mean_absolute_error as MAE\n",
    "from sklearn.metrics import mean_squared_error as MSE\n",
    "from sklearn.metrics import r2_score as R2\n",
    "\n",
    "def RMSE(y_true, y_pred):\n",
    "    return np.sqrt(MSE(y_true, y_pred))"
   ]
  },
  {
   "cell_type": "code",
   "execution_count": null,
   "id": "6992a0f0",
   "metadata": {},
   "outputs": [],
   "source": [
    "# 任务 5：\n",
    "# 封装以上功能，成为一个还能够进行：遍历以上所有模型进行训练，且能够将这些模\n",
    "# 型的效果图输出，且能够将这些模型的评价指标参数打印的函数。且实现数据集 y 预\n",
    "# 测值与 y 实际值进行对比的效果。\n",
    "def model_compare(train_X, train_y, test_X, test_y):\n",
    "    model_list = [tree_model, linear_model, ridge_model, lasso_model, svr_model\n",
    "        , knn_model, rf_model, adbst_model, gbr_model, bag_model, ext_model\n",
    "                  ]\n",
    "    result_y = {\"y_true\": test_y}\n",
    "    for model in model_list:\n",
    "        model.fit(train_X, train_y)\n",
    "        pred_y = model.predict(test_X)\n",
    "        mae = MAE(test_y, pred_y)\n",
    "        mse = MSE(test_y, pred_y)\n",
    "        rmse = RMSE(test_y, pred_y)\n",
    "        r2 = R2(test_y, pred_y)\n",
    "        model_name = model.__class__.__name__\n",
    "        result_y[model_name] = pred_y\n",
    "        print(model_name, f\"mae = {mae}, mse = {mse}, rmse = {rmse}, r2 = {r2}\")\n",
    "\n",
    "    # 开始画图\n",
    "    colors = [\"red\", \"lightcoral\", \"tomato\", \"sandybrown\", \"yellowgreen\",\n",
    "              \"c\", \"seagreen\", \"lightskyblue\", \"orchid\", \"pink\", \"slategrey\", \"hotpink\"]\n",
    "\n",
    "    x = range(len(test_y))\n",
    "    for idx, (model_name, pred_y) in enumerate(result_y.items()):\n",
    "        if model_name != \"y_true\":\n",
    "            plt.plot(x, result_y[\"y_true\"], color=\"black\",  label=\"y_true\", alpha=0.5)\n",
    "            plt.plot(x, pred_y, color=colors[idx], label=model_name, alpha=1)\n",
    "            plt.legend()  # 显示图例\n",
    "            plt.xlabel('sample')\n",
    "            plt.ylabel('sales_record')\n",
    "            plt.show()"
   ]
  },
  {
   "cell_type": "code",
   "execution_count": null,
   "id": "ca10a499",
   "metadata": {},
   "outputs": [],
   "source": [
    "# 任务 7：\n",
    "# 分割训练集与预测集\n",
    "from sklearn.model_selection import train_test_split\n",
    "X = data.drop(columns=[\"sales_record\"])\n",
    "y = data[\"sales_record\"]\n",
    "train_x, test_x, train_y, test_y = train_test_split(X, y, test_size=0.3, shuffle=True, random_state=42)"
   ]
  },
  {
   "cell_type": "code",
   "execution_count": null,
   "id": "bac092ae",
   "metadata": {},
   "outputs": [],
   "source": [
    "# 任务 6：\n",
    "# 对该数据集中的数据进行操作：对部分数据先拟合，通过拟合后的整体指标进行，对\n",
    "# 数据实现标准化和归一化。\n",
    "from sklearn.preprocessing import MinMaxScaler, StandardScaler\n",
    "num_col = ['undesirable_event', 'feedback', 'positive_feedback', 'competitive', 'spread_rate', 'transfer_rate', 'matain_rate']\n",
    "num_train_x = train_x[num_col]\n",
    "num_test_x = test_x[num_col]\n",
    "\n",
    "minmax_scaler = MinMaxScaler().fit(num_train_x)\n",
    "# standard_scaler = StandardScaler().fit(num_train_x)\n",
    "num_train_x = minmax_scaler.transform(num_train_x)\n",
    "num_test_x = minmax_scaler.transform(num_test_x)\n",
    "num_train_x = pd.DataFrame(num_train_x, columns=num_col, index=train_x.index)\n",
    "num_test_x = pd.DataFrame(num_test_x, columns=num_col, index=test_x.index)\n",
    "train_x[num_col] = num_train_x\n",
    "test_x[num_col] = num_test_x"
   ]
  },
  {
   "cell_type": "code",
   "execution_count": null,
   "id": "553c49c7",
   "metadata": {
    "scrolled": true
   },
   "outputs": [],
   "source": [
    "# 任务 7：\n",
    "# 并对模型进行训练\n",
    "model_compare(train_x, train_y, test_x, test_y)"
   ]
  },
  {
   "cell_type": "code",
   "execution_count": null,
   "id": "f8d49c58",
   "metadata": {},
   "outputs": [],
   "source": [
    "# 任务 8：\n",
    "# 根据前几周自学的知识进行统计学分析，调整超参数改变的方向，提高模型效果。\n",
    "\n",
    "# 对RandomForestRegressor调参\n",
    "forest_reg_ori = RandomForestRegressor(random_state=1).fit(train_x, train_y)\n",
    "test_y_pred_ori = forest_reg_ori.predict(test_x)\n",
    "r2_ori = R2(test_y, test_y_pred_ori)\n",
    "mae_ori = MAE(test_y, test_y_pred_ori)\n",
    "\n",
    "forest_reg = RandomForestRegressor(max_depth=8, n_estimators=500, random_state=1).fit(train_x, train_y)\n",
    "test_y_pred = forest_reg.predict(test_x)\n",
    "r2 = R2(test_y, test_y_pred)\n",
    "mae = MAE(test_y, test_y_pred)\n",
    "print(f\"调参数前r2: {r2_ori}, 调参数后r2: {r2}, 调参数前mae: {mae_ori}, 调参数后mae: {mae}\")\n",
    "\n",
    "# 对ExtraTreesRegressor调参\n",
    "\n",
    "ext_reg_ori = ExtraTreesRegressor(random_state=1).fit(train_x, train_y)\n",
    "test_y_pred_ori = ext_reg_ori.predict(test_x)\n",
    "r2_ori = R2(test_y, test_y_pred_ori)\n",
    "mae_ori = MAE(test_y, test_y_pred_ori)\n",
    "\n",
    "ext_reg = ExtraTreesRegressor(max_depth=10, n_estimators=100, random_state=1).fit(train_x, train_y)\n",
    "test_y_pred = ext_reg.predict(test_x)\n",
    "r2 = R2(test_y, test_y_pred)\n",
    "mae = MAE(test_y, test_y_pred)\n",
    "print(f\"调参数前r2: {r2_ori}, 调参数后r2: {r2}, 调参数前mae: {mae_ori}, 调参数后mae: {mae}\")\n",
    "\n"
   ]
  },
  {
   "cell_type": "code",
   "execution_count": null,
   "id": "cbbac51b",
   "metadata": {},
   "outputs": [],
   "source": [
    "# 任务 9：\n",
    "# 利用全体数据集进行训练，将训练好的模型进行保存\n",
    "data_x = data.drop(columns=[\"region\"])\n",
    "data_y = data[\"region\"].values\n",
    "model = RandomForestRegressor()\n",
    "model.fit(data_x, data_y)\n",
    "\n",
    "\n",
    "import pickle\n",
    "# 可以将保存路径改为自己想要保存的路径\n",
    "save_path = r\"model.pkl\"\n",
    "with open(save_path, \"wb\") as ot_path:\n",
    "    pickle.dump(model, ot_path)"
   ]
  }
 ],
 "metadata": {
  "kernelspec": {
   "display_name": "Python 3 (ipykernel)",
   "language": "python",
   "name": "python3"
  },
  "language_info": {
   "codemirror_mode": {
    "name": "ipython",
    "version": 3
   },
   "file_extension": ".py",
   "mimetype": "text/x-python",
   "name": "python",
   "nbconvert_exporter": "python",
   "pygments_lexer": "ipython3",
   "version": "3.7.10"
  }
 },
 "nbformat": 4,
 "nbformat_minor": 5
}
